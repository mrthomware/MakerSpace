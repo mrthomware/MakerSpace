{
  "nbformat": 4,
  "nbformat_minor": 0,
  "metadata": {
    "colab": {
      "provenance": [],
      "toc_visible": true,
      "include_colab_link": true
    },
    "kernelspec": {
      "name": "python3",
      "display_name": "Python 3"
    },
    "language_info": {
      "name": "python"
    }
  },
  "cells": [
    {
      "cell_type": "markdown",
      "metadata": {
        "id": "view-in-github",
        "colab_type": "text"
      },
      "source": [
        "<a href=\"https://colab.research.google.com/github/mrthomware/MakerSpace/blob/main/Intro_to_Qdrant.ipynb\" target=\"_parent\"><img src=\"https://colab.research.google.com/assets/colab-badge.svg\" alt=\"Open In Colab\"/></a>"
      ]
    },
    {
      "cell_type": "markdown",
      "source": [
        "# Connecting your app to qdrant with Langchain\n",
        "\n",
        "The first thing that you need to do is create an account on qdrant cloud and subsequently create a cluster. Qdrant cloud offers a free-forever 1GB cluster for your projects.\n",
        "\n",
        "Once you get that, the the host and API keys on your account. Then you can follow these steps."
      ],
      "metadata": {
        "id": "VRkEyuJMrcfb"
      }
    },
    {
      "cell_type": "code",
      "execution_count": null,
      "metadata": {
        "id": "lmpTsMEggWn4"
      },
      "outputs": [],
      "source": [
        "!pip install langchain qdrant_client openai tiktoken"
      ]
    },
    {
      "cell_type": "code",
      "source": [
        "from langchain.vectorstores import Qdrant\n",
        "from langchain.embeddings.openai import OpenAIEmbeddings\n",
        "import qdrant_client\n",
        "import os"
      ],
      "metadata": {
        "id": "GVOtd3m9gl1t"
      },
      "execution_count": null,
      "outputs": []
    },
    {
      "cell_type": "code",
      "source": [
        "# create your client\n",
        "\n",
        "os.environ['QDRANT_HOST'] =\n",
        "os.environ['QDRANT_API_KEY'] =\n",
        "\n",
        "\n",
        "client = qdrant_client.QdrantClient(\n",
        "        os.getenv(\"QDRANT_HOST\"),\n",
        "        api_key=os.getenv(\"QDRANT_API_KEY\")\n",
        "    )"
      ],
      "metadata": {
        "id": "PaTtMZlvg-p3"
      },
      "execution_count": null,
      "outputs": []
    },
    {
      "cell_type": "code",
      "source": [
        "# create collection\n",
        "\n",
        "os.environ['QDRANT_COLLECTION'] =\n",
        "\n",
        "collection_config = qdrant_client.http.models.VectorParams(\n",
        "        size=1536, # 768 for instructor-xl, 1536 for OpenAI\n",
        "        distance=qdrant_client.http.models.Distance.COSINE\n",
        "    )\n",
        "\n",
        "client.recreate_collection(\n",
        "    collection_name=os.getenv(\"QDRANT_COLLECTION\"),\n",
        "    vectors_config=collection_config\n",
        ")"
      ],
      "metadata": {
        "colab": {
          "base_uri": "https://localhost:8080/"
        },
        "id": "w-Nf5XOJj-Vx",
        "outputId": "1f200bc2-e7f3-417e-df20-3b558c4587f2"
      },
      "execution_count": null,
      "outputs": [
        {
          "output_type": "execute_result",
          "data": {
            "text/plain": [
              "True"
            ]
          },
          "metadata": {},
          "execution_count": 11
        }
      ]
    },
    {
      "cell_type": "code",
      "source": [
        "# create your vector store\n",
        "\n",
        "os.environ['OPENAI_API_KEY'] =\n",
        "\n",
        "embeddings = OpenAIEmbeddings()\n",
        "\n",
        "vectorstore = Qdrant(\n",
        "        client=client,\n",
        "        collection_name=os.getenv(\"QDRANT_COLLECTION_NAME\"),\n",
        "        embeddings=embeddings\n",
        "    )"
      ],
      "metadata": {
        "id": "7zMuqgYwkgWw"
      },
      "execution_count": null,
      "outputs": []
    },
    {
      "cell_type": "code",
      "source": [
        "# add documents to your vector database\n",
        "\n",
        "from langchain.text_splitter import CharacterTextSplitter\n",
        "\n",
        "def get_chunks(text):\n",
        "    text_splitter = CharacterTextSplitter(\n",
        "        separator=\"\\n\",\n",
        "        chunk_size=1000,\n",
        "        chunk_overlap=200,\n",
        "        length_function=len\n",
        "    )\n",
        "    chunks = text_splitter.split_text(text)\n",
        "    return chunks\n",
        "\n",
        "with open(\"story.txt\") as f:\n",
        "    raw_text = f.read()\n",
        "\n",
        "texts = get_chunks(raw_text)\n",
        "\n",
        "vectorstore.add_texts(texts)"
      ],
      "metadata": {
        "colab": {
          "base_uri": "https://localhost:8080/"
        },
        "id": "Mu19nbEnlWDm",
        "outputId": "5b9bfe0f-8472-45fc-e3dd-2eb715c87a29"
      },
      "execution_count": null,
      "outputs": [
        {
          "output_type": "execute_result",
          "data": {
            "text/plain": [
              "['72c466dfe701425b9cb83f10bb8f1c2d',\n",
              " '63f0aae63a0140a3acd064909c73ee1f',\n",
              " '32437187680f4eb7b2ec330a948ce60f',\n",
              " '99f9bb023a7e409fba4c714fa7b391b3',\n",
              " '167e58a62263493f98bb8837596b2017']"
            ]
          },
          "metadata": {},
          "execution_count": 13
        }
      ]
    },
    {
      "cell_type": "code",
      "source": [
        "# plug the vector store to your retrieval chain\n",
        "\n",
        "from langchain.chains import RetrievalQA\n",
        "from langchain.llms import OpenAI\n",
        "\n",
        "\n",
        "qa = RetrievalQA.from_chain_type(\n",
        "    llm=OpenAI(),\n",
        "    chain_type=\"stuff\",\n",
        "    retriever=vectorstore.as_retriever()\n",
        "    )"
      ],
      "metadata": {
        "id": "7LLeOs_YbSBc"
      },
      "execution_count": null,
      "outputs": []
    },
    {
      "cell_type": "code",
      "source": [
        "query = \"How many friends are there and what are their names?\"\n",
        "response = qa.run(query)\n",
        "\n",
        "print(response)"
      ],
      "metadata": {
        "colab": {
          "base_uri": "https://localhost:8080/"
        },
        "id": "01WyhrKLuXph",
        "outputId": "5eca6066-1249-4743-91e0-6d64d9af2090"
      },
      "execution_count": null,
      "outputs": [
        {
          "output_type": "stream",
          "name": "stdout",
          "text": [
            " There are three friends and their names are Emily, Ben, and Sarah.\n"
          ]
        }
      ]
    },
    {
      "cell_type": "code",
      "source": [],
      "metadata": {
        "id": "1ehoJQVaui4y"
      },
      "execution_count": null,
      "outputs": []
    }
  ]
}